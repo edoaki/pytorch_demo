{
 "cells": [
  {
   "cell_type": "markdown",
   "metadata": {},
   "source": [
    "# Python 基礎講座\n",
    "\n",
    "プログラムを理解するために必要な基本的な Python の概念を紹介します"
   ]
  },
  {
   "cell_type": "markdown",
   "metadata": {},
   "source": [
    "## 1.基本的な文法"
   ]
  },
  {
   "cell_type": "markdown",
   "metadata": {},
   "source": [
    "print()"
   ]
  },
  {
   "cell_type": "code",
   "execution_count": 1,
   "metadata": {},
   "outputs": [
    {
     "name": "stdout",
     "output_type": "stream",
     "text": [
      "Hello, World!\n",
      "42\n",
      "The answer is 42\n",
      "My name is Alice and I am 30 years old.\n",
      "Pi is approximately 3.14\n"
     ]
    }
   ],
   "source": [
    "print(\"Hello, World!\")  # 文字列の出力\n",
    "print(42)  # 数値の出力\n",
    "print(\"The answer is\", 42)  # 複数の値の出力\n",
    "\n",
    "# print関数は、括弧内の値や変数を画面に表示します。\n",
    "# コンマで区切ることで複数の項目を出力でき、それらは自動的にスペースで区切られます。\n",
    "\n",
    "# f-stringの使用例\n",
    "name = \"Alice\"\n",
    "age = 30\n",
    "\n",
    "# 基本的なf-string\n",
    "print(f\"My name is {name} and I am {age} years old.\")\n",
    "\n",
    "# 数値のフォーマット\n",
    "pi = 3.14159\n",
    "print(f\"Pi is approximately {pi:.2f}\")  # 小数点以下2桁まで表示"
   ]
  },
  {
   "cell_type": "markdown",
   "metadata": {},
   "source": [
    "配列"
   ]
  },
  {
   "cell_type": "code",
   "execution_count": null,
   "metadata": {},
   "outputs": [],
   "source": [
    "# 2. Pythonのリスト（配列）\n",
    "my_list = [1, 2, 3, 4, 5]\n",
    "print(my_list)  # リスト全体の表示\n",
    "print(my_list[0])  # 最初の要素（インデックスは0から始まる）\n",
    "print(my_list[-1])  # 最後の要素\n",
    "\n",
    "# リストは様々な型の要素を含むことができます\n",
    "mixed_list = [1, \"two\", 3.0, [4, 5]]\n",
    "print(mixed_list)\n",
    "\n",
    "# リストの操作\n",
    "my_list.append(6)  # 末尾に要素を追加\n",
    "print(my_list)"
   ]
  },
  {
   "cell_type": "markdown",
   "metadata": {},
   "source": [
    "for文"
   ]
  },
  {
   "cell_type": "code",
   "execution_count": null,
   "metadata": {},
   "outputs": [],
   "source": [
    "# 基本的なfor ループ\n",
    "for i in range(5):\n",
    "    print(i)  # 0から4までの数字を出力\n",
    "\n",
    "# リストを使用したfor ループ\n",
    "fruits = [\"apple\", \"banana\", \"cherry\"]\n",
    "for fruit in fruits:\n",
    "    print(fruit)\n",
    "\n",
    "# enumerate()関数を使用したforループでは、リストの要素とそのインデックスの両方にアクセスできます。\n",
    "for index, fruit in enumerate(fruits):\n",
    "    print(f\"Index {index}: {fruit}\")\n",
    "\n",
    "# 辞書を使用したfor ループ\n",
    "person = {\"name\": \"Alice\", \"age\": 30, \"city\": \"New York\"}\n",
    "for key, value in person.items():\n",
    "    print(f\"{key}: {value}\")"
   ]
  },
  {
   "cell_type": "markdown",
   "metadata": {},
   "source": [
    "if文"
   ]
  },
  {
   "cell_type": "code",
   "execution_count": null,
   "metadata": {},
   "outputs": [],
   "source": [
    "print(\"\\nif 文の例:\")\n",
    "# 基本的なif文\n",
    "x = 10\n",
    "if x > 5:\n",
    "    print(\"xは5より大きい\")\n",
    "\n",
    "# if-elif-else文\n",
    "y = 3\n",
    "if y > 5:\n",
    "    print(\"yは5より大きい\")\n",
    "elif y < 5:\n",
    "    print(\"yは5より小さい\")\n",
    "else:\n",
    "    print(\"yは5に等しい\")\n",
    "\n",
    "# 条件式の組み合わせ\n",
    "age = 25\n",
    "has_license = True\n",
    "if age >= 18 and has_license:\n",
    "    print(\"車を運転できます\")\n",
    "\n",
    "# リスト内包表記でのif文の使用\n",
    "numbers = [1, 2, 3, 4, 5, 6, 7, 8, 9, 10]\n",
    "even_numbers = [num for num in numbers if num % 2 == 0]\n",
    "print(\"偶数:\", even_numbers)"
   ]
  },
  {
   "cell_type": "markdown",
   "metadata": {},
   "source": [
    "## 2. インポート\n",
    "\n",
    "Pythonでは他のモジュールやライブラリのコードを使用するために `import` 文を使用します"
   ]
  },
  {
   "cell_type": "code",
   "execution_count": null,
   "metadata": {},
   "outputs": [
    {
     "ename": "",
     "evalue": "",
     "output_type": "error",
     "traceback": [
      "\u001b[1;31mRunning cells with 'base (Python 3.7.9)' requires the ipykernel package.\n",
      "\u001b[1;31mRun the following command to install 'ipykernel' into the Python environment. \n",
      "\u001b[1;31mCommand: 'conda install -n base ipykernel --update-deps --force-reinstall'"
     ]
    }
   ],
   "source": [
    "import numpy as np\n",
    "import torch"
   ]
  },
  {
   "cell_type": "markdown",
   "metadata": {},
   "source": [
    "### よく使うライブラリについて\n",
    "多次元配列(テンソル)を扱う際にはnumpyや、pytorchを使うことが多いです。"
   ]
  },
  {
   "cell_type": "markdown",
   "metadata": {},
   "source": [
    "### numpy"
   ]
  },
  {
   "cell_type": "code",
   "execution_count": null,
   "metadata": {},
   "outputs": [],
   "source": [
    "# NumPy配列の作成\n",
    "np_array = np.array([1, 2, 3, 4, 5])\n",
    "print(\"NumPy配列:\", np_array)\n",
    "\n",
    "# 多次元NumPy配列\n",
    "np_matrix = np.array([[1, 2, 3], [4, 5, 6]])\n",
    "print(\"NumPy行列:\\n\", np_matrix)\n",
    "\n",
    "# NumPy配列の操作\n",
    "print(\"要素の和:\", np.sum(np_array))\n",
    "print(\"平均値:\", np.mean(np_array))\n",
    "\n",
    "# ブロードキャスト\n",
    "print(\"各要素に2を加算:\", np_array + 2)"
   ]
  },
  {
   "cell_type": "markdown",
   "metadata": {},
   "source": [
    "### pytorchのテンソル"
   ]
  },
  {
   "cell_type": "code",
   "execution_count": null,
   "metadata": {},
   "outputs": [],
   "source": [
    "# PyTorchテンソルの作成\n",
    "torch_tensor = torch.tensor([1, 2, 3, 4, 5])\n",
    "print(\"PyTorchテンソル:\", torch_tensor)\n",
    "\n",
    "# 多次元PyTorchテンソル\n",
    "torch_matrix = torch.tensor([[1, 2, 3], [4, 5, 6]])\n",
    "print(\"PyTorch行列:\\n\", torch_matrix)\n",
    "\n",
    "# PyTorchテンソルの操作\n",
    "print(\"要素の和:\", torch.sum(torch_tensor))\n",
    "print(\"平均値:\", torch.mean(torch_tensor.float()))  # float型に変換\n",
    "\n",
    "# ブロードキャスト\n",
    "print(\"各要素に2を加算:\", torch_tensor + 2)\n",
    "\n",
    "# GPUへの移動（GPUが利用可能な場合）\n",
    "if torch.cuda.is_available():\n",
    "    torch_tensor_gpu = torch_tensor.to('cuda')\n",
    "    print(\"GPU上のテンソル:\", torch_tensor_gpu)\n",
    "    print(\"テンソルのデバイス:\", torch_tensor_gpu.device)"
   ]
  },
  {
   "cell_type": "markdown",
   "metadata": {},
   "source": [
    "numpyとpytorchのテンソルは相互変換できます"
   ]
  },
  {
   "cell_type": "code",
   "execution_count": null,
   "metadata": {},
   "outputs": [],
   "source": [
    "# NumPy配列からPyTorchテンソルへ\n",
    "np_array = np.array([1, 2, 3])\n",
    "torch_from_np = torch.from_numpy(np_array)\n",
    "print(\"NumPyからPyTorch:\", torch_from_np)\n",
    "\n",
    "# PyTorchテンソルからNumPy配列へ\n",
    "np_from_torch = torch_from_np.numpy()\n",
    "print(\"PyTorchからNumPy:\", np_from_torch)"
   ]
  },
  {
   "cell_type": "markdown",
   "metadata": {},
   "source": [
    "### pandas \n",
    "データ分析ライブラリ データを読み込んだり、集計、欠損データの処理などを行えます"
   ]
  },
  {
   "cell_type": "code",
   "execution_count": null,
   "metadata": {},
   "outputs": [],
   "source": [
    "import pandas as pd\n",
    "\n",
    "# DataFrameの作成\n",
    "data = {\n",
    "    'Name': ['Alice', 'Bob', 'Charlie'],\n",
    "    'Age': [25, 30, 35],\n",
    "    'City': ['New York', 'Paris', 'London']\n",
    "}\n",
    "df = pd.DataFrame(data)\n",
    "print(\"pandas DataFrame:\")\n",
    "print(df)\n",
    "\n",
    "# 基本的な操作\n",
    "print(\"\\n年齢の平均:\")\n",
    "print(df['Age'].mean())\n",
    "\n",
    "# データのフィルタリング\n",
    "print(\"\\n30歳以上:\")\n",
    "print(df[df['Age'] >= 30])\n",
    "\n",
    "# グループ化と集計\n",
    "print(\"\\n都市ごとの平均年齢:\")\n",
    "print(df.groupby('City')['Age'].mean())\n",
    "\n",
    "# csvデータの読み込み\n",
    "train_data = pd.read_csv(\"../dataset/train.csv\")\n",
    "print(train_data.info())\n",
    "print(train_data)\n",
    "\n",
    "# データの保存（例）\n",
    "# df.to_csv('output.csv', index=False)"
   ]
  },
  {
   "cell_type": "markdown",
   "metadata": {},
   "source": [
    "### matplotlib \n",
    " 高品質なグラフや図を作成するための包括的なライブラリです。"
   ]
  },
  {
   "cell_type": "code",
   "execution_count": null,
   "metadata": {},
   "outputs": [],
   "source": [
    "import matplotlib.pyplot as plt\n",
    "import numpy as np\n",
    "\n",
    "# 基本的な線グラフ\n",
    "x = np.linspace(0, 10, 100)\n",
    "y = np.sin(x)\n",
    "\n",
    "plt.figure(figsize=(10, 6))\n",
    "plt.plot(x, y, label='sin(x)')\n",
    "plt.title('Sin Wave')\n",
    "plt.xlabel('x')\n",
    "plt.ylabel('y')\n",
    "plt.legend()\n",
    "plt.grid(True)\n",
    "plt.show()\n",
    "\n",
    "# 散布図\n",
    "data1 = np.random.rand(50)\n",
    "data2 = np.random.rand(50)\n",
    "\n",
    "plt.figure(figsize=(10, 6))\n",
    "plt.scatter(data1, data2, color='red', alpha=0.5)\n",
    "plt.title('Scatter Plot')\n",
    "plt.xlabel('X')\n",
    "plt.ylabel('Y')\n",
    "plt.show()\n",
    "\n",
    "# ヒストグラム\n",
    "data = np.random.randn(1000)\n",
    "\n",
    "plt.figure(figsize=(10, 6))\n",
    "plt.hist(data, bins=30, edgecolor='black')\n",
    "plt.title('Histogram')\n",
    "plt.xlabel('Value')\n",
    "plt.ylabel('Frequency')\n",
    "plt.show()\n",
    "\n",
    "# pandasとmatplotlibの組み合わせ\n",
    "df = pd.DataFrame({\n",
    "    'A': np.random.randn(1000),\n",
    "    'B': np.random.randn(1000) + 1\n",
    "})\n",
    "\n",
    "df.plot(kind='box', figsize=(10, 6))\n",
    "plt.title('Box Plot of DataFrame Columns')\n",
    "plt.show()"
   ]
  },
  {
   "cell_type": "markdown",
   "metadata": {},
   "source": [
    "## 3. 関数\n",
    "\n",
    "関数は、特定のタスクを実行する再利用可能なコードブロックです"
   ]
  },
  {
   "cell_type": "code",
   "execution_count": null,
   "metadata": {},
   "outputs": [],
   "source": [
    "def greet(name):\n",
    "    return f\"こんにちは、{name}さん！\"\n",
    "\n",
    "print(greet(\"Python学習者\"))\n",
    "\n",
    "# 複数のパラメータとデフォルト値を持つ関数\n",
    "def power(base, exponent=2):\n",
    "    return base ** exponent\n",
    "\n",
    "print(power(3))     # 3^2 = 9\n",
    "print(power(2, 3))  # 2^3 = 8"
   ]
  },
  {
   "cell_type": "markdown",
   "metadata": {},
   "source": [
    "## 4. クラス\n",
    "\n",
    "クラスは、属性（データ）とメソッド（関数）を持つオブジェクトを作成するために使用されます"
   ]
  },
  {
   "cell_type": "code",
   "execution_count": null,
   "metadata": {},
   "outputs": [],
   "source": [
    "class Cat:\n",
    "    def __init__(self, name, age):\n",
    "        self.name = name\n",
    "        self.age = age\n",
    "    \n",
    "    def meow(self):\n",
    "        return f\"{self.name}はニャーと鳴きました！\"\n",
    "\n",
    "my_cat = Cat(\"タマ\", 2)\n",
    "print(my_cat.name)\n",
    "print(my_cat.meow())"
   ]
  },
  {
   "cell_type": "markdown",
   "metadata": {},
   "source": [
    "## 5. 継承\n",
    "\n",
    "継承により、あるクラスが別のクラスから属性とメソッドを継承することができます。"
   ]
  },
  {
   "cell_type": "code",
   "execution_count": null,
   "metadata": {},
   "outputs": [],
   "source": [
    "class Animal:\n",
    "    def __init__(self, name):\n",
    "        self.name = name\n",
    "    \n",
    "    def speak(self):\n",
    "        pass\n",
    "\n",
    "class Cat(Animal):\n",
    "    def speak(self):\n",
    "        return f\"{self.name}はニャーと鳴きました！\"\n",
    "\n",
    "my_cat = Cat(\"タマ\")\n",
    "print(my_cat.speak())"
   ]
  },
  {
   "cell_type": "markdown",
   "metadata": {},
   "source": [
    "## 6. シンプルなニューラルネットワーク\n",
    "\n",
    "PyTorchを使用したシンプルなニューラルネットワーククラスを作成"
   ]
  },
  {
   "cell_type": "code",
   "execution_count": null,
   "metadata": {},
   "outputs": [],
   "source": [
    "import torch\n",
    "import torch.nn as nn\n",
    "import torch.optim as optim\n",
    "\n",
    "class SimpleNetwork(nn.Module):\n",
    "    def __init__(self, input_size, hidden_size, output_size):\n",
    "        # torchのnn.Moduleを継承し、親クラスの__init__メソッドを呼び出す\n",
    "        super().__init__()\n",
    "        \n",
    "        # 第一層（入力層から隠れ層）の定義\n",
    "        # nn.Linearは全結合層を表す\n",
    "        self.layer1 = nn.Linear(input_size, hidden_size)\n",
    "        \n",
    "        # 第二層（隠れ層から出力層）の定義\n",
    "        self.layer2 = nn.Linear(hidden_size, output_size)\n",
    "        \n",
    "        # 活性化関数ReLU（Rectified Linear Unit）の定義\n",
    "        self.relu = nn.ReLU()\n",
    "    \n",
    "    def forward(self, x):\n",
    "        # フォワードパスの定義\n",
    "        # 入力xを第一層に通す\n",
    "        x = self.layer1(x)\n",
    "        # ReLU活性化関数を適用\n",
    "        x = self.relu(x)\n",
    "        # 第二層に通す\n",
    "        x = self.layer2(x)\n",
    "        # 最終的な出力を返す\n",
    "        return x\n"
   ]
  },
  {
   "cell_type": "markdown",
   "metadata": {},
   "source": [
    "### NNモデルインスタンスの作成"
   ]
  },
  {
   "cell_type": "code",
   "execution_count": null,
   "metadata": {},
   "outputs": [],
   "source": [
    "net = SimpleNetwork(input_size=5, hidden_size=10, output_size=2)\n",
    "print(net)\n",
    "#  これででネットワーク構造を出力できます"
   ]
  },
  {
   "cell_type": "markdown",
   "metadata": {},
   "source": [
    "### モデルを使った操作"
   ]
  },
  {
   "cell_type": "code",
   "execution_count": null,
   "metadata": {},
   "outputs": [],
   "source": [
    "# 損失関数の定義\n",
    "criterion = nn.CrossEntropyLoss()\n",
    "# 注: CrossEntropyLossは多クラス分類問題によく使用されます。\n",
    "# 他の選択肢: \n",
    "# - 二値分類: nn.BCELoss (Binary Cross Entropy)\n",
    "# - 回帰問題: nn.MSELoss (Mean Squared Error)\n",
    "\n",
    "# 最適化アルゴリズムの定義\n",
    "optimizer = optim.Adam(net.parameters(), lr=0.001)\n",
    "# 注: Adamは適応的な学習率を持つ最適化アルゴリズムです。\n",
    "# 他の選択肢:\n",
    "# - optim.SGD: 確率的勾配降下法\n",
    "# - optim.RMSprop: AdaGradの改良版\n",
    "\n",
    "# ダミーデータの作成\n",
    "num_samples = 100\n",
    "X = torch.randn(num_samples, 5)  # 入力データ\n",
    "y = torch.randint(0, 2, (num_samples,))  # ラベル（0または1）\n",
    "# 注: 実際のアプリケーションでは、torch.utils.data.DataLoaderを使用してデータを読み込みます。\n",
    "# DataLoaderを使用すると、バッチ処理や並列データロードが容易になります。\n",
    "\n",
    "# トレーニングループ\n",
    "num_epochs = 100\n",
    "for epoch in range(num_epochs):\n",
    "    # フォワードパス\n",
    "    outputs = net(X)\n",
    "    loss = criterion(outputs, y)\n",
    "    \n",
    "    # バックワードパスと最適化\n",
    "    optimizer.zero_grad()  # 勾配をゼロに初期化\n",
    "    loss.backward()  # 勾配の計算\n",
    "    optimizer.step()  # パラメータの更新\n",
    "    \n",
    "    if (epoch + 1) % 10 == 0:\n",
    "        print(f'Epoch [{epoch+1}/{num_epochs}], Loss: {loss.item():.4f}')\n",
    "    \n",
    "    # 注: 実際のアプリケーションでは、以下のような追加の処理を行うことがあります：\n",
    "    # - 検証データセットでの評価\n",
    "    # - 学習率のスケジューリング (例: torch.optim.lr_scheduler)\n",
    "    # - モデルのチェックポイント保存\n",
    "    # - 早期停止 (検証損失が改善しない場合にトレーニングを停止)\n",
    "\n",
    "# テストデータでの評価\n",
    "test_input = torch.randn(1, 5)\n",
    "with torch.no_grad():  # 推論時は勾配計算が不要\n",
    "    test_output = net(test_input)\n",
    "    _, predicted = torch.max(test_output.data, 1)\n",
    "    print(f'テスト入力に対する予測: {predicted.item()}')\n"
   ]
  }
 ],
 "metadata": {
  "kernelspec": {
   "display_name": "base",
   "language": "python",
   "name": "python3"
  },
  "language_info": {
   "codemirror_mode": {
    "name": "ipython",
    "version": 3
   },
   "file_extension": ".py",
   "mimetype": "text/x-python",
   "name": "python",
   "nbconvert_exporter": "python",
   "pygments_lexer": "ipython3",
   "version": "3.7.9"
  }
 },
 "nbformat": 4,
 "nbformat_minor": 4
}
